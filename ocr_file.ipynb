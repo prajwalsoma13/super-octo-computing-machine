{
 "cells": [
  {
   "cell_type": "code",
   "execution_count": null,
   "metadata": {},
   "outputs": [],
   "source": [
    "import imutils\n",
    "import requests\n",
    "import io\n",
    "import json\n",
    "import cv2\n",
    "import re\n",
    "\n",
    "def ocr_file(filename):\n",
    "    image = cv2.imread(filename,0)\n",
    "    ratio = image.shape[0] / 500.0\n",
    "    orig = image.copy()\n",
    "    img = imutils.resize(image, height = 800)\n",
    "\n",
    "    url_api = \"https://api.ocr.space/parse/image\"\n",
    "\n",
    "    _, compressedimage = cv2.imencode(\".jpeg\", img, [1, 90])\n",
    "    file_bytes = io.BytesIO(compressedimage)\n",
    "\n",
    "    result = requests.post(url_api,\n",
    "                    files = {\"img.jpeg\": file_bytes},\n",
    "                    data = {\"apikey\": \"cf6fb2f8d588957\",\n",
    "                            \"language\": \"eng\"})\n",
    "\n",
    "    result = result.content.decode()\n",
    "    result = json.loads(result)\n",
    "\n",
    "    parsed_results = result.get(\"ParsedResults\")[0]\n",
    "    text_detected = parsed_results.get(\"ParsedText\")\n",
    "    \n",
    "    pattern = re.compile(r'[Date:]*([0-9]{0,2}[\\/-]([0-9]{0,2}|[a-z]{3})[\\/-][0-9]{0,4})')\n",
    "    matches = pattern.finditer(text_detected)\n",
    "    \n",
    "    for x in matches:\n",
    "        return x\n",
    "\n",
    "print(ocr_file(\".jpeg\"))"
   ]
  },
  {
   "cell_type": "code",
   "execution_count": null,
   "metadata": {},
   "outputs": [],
   "source": []
  }
 ],
 "metadata": {
  "kernelspec": {
   "display_name": "Python 3",
   "language": "python",
   "name": "python3"
  },
  "language_info": {
   "codemirror_mode": {
    "name": "ipython",
    "version": 3
   },
   "file_extension": ".py",
   "mimetype": "text/x-python",
   "name": "python",
   "nbconvert_exporter": "python",
   "pygments_lexer": "ipython3",
   "version": "3.7.4"
  }
 },
 "nbformat": 4,
 "nbformat_minor": 4
}
